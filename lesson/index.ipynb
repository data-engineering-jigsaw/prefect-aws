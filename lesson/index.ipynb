{
 "cells": [
  {
   "cell_type": "markdown",
   "id": "ef527d59-5224-463e-bba7-94a899025b48",
   "metadata": {},
   "source": [
    "# Deploying Prefect"
   ]
  },
  {
   "cell_type": "markdown",
   "id": "82a5fa74-9ec2-461a-8fe5-2d99eb2d09cc",
   "metadata": {},
   "source": [
    "### Introduction"
   ]
  },
  {
   "cell_type": "markdown",
   "id": "ce2b7532-f4eb-46d6-8cc4-a7d762dba889",
   "metadata": {},
   "source": [
    "Now that we've explored the main concepts in prefect, it's time to see if we can get this running on AWS.  To accomplish this, the we'll need to create an EC2 machine, and perform the installations necessary to boot up prefect."
   ]
  },
  {
   "cell_type": "markdown",
   "id": "3d532bd2-144b-4ea3-a97b-d01ee53f9e7c",
   "metadata": {},
   "source": [
    "### Creating the EC2 machine"
   ]
  },
  {
   "cell_type": "markdown",
   "id": "dace8033-9729-424c-b064-2112b5e6afb3",
   "metadata": {},
   "source": [
    "Ok the first thing we should do is login to AWS, and create the EC2 machine.  You may need to save a new `.pem` file, which can be stored in your `~/.ssh` folder.  \n",
    "\n",
    "Once you see your EC2 machine up and running, the next step is to connect to your machine, by clicking the connect button."
   ]
  },
  {
   "cell_type": "markdown",
   "id": "e8981fcb-68fb-4406-9618-43f6594a789d",
   "metadata": {},
   "source": [
    "<img src=\"./connect.png\">"
   ]
  },
  {
   "cell_type": "markdown",
   "id": "d82f37ab-27fd-4b2d-9031-af043a240f58",
   "metadata": {},
   "source": [
    "Upon doing so, we'll see instructions telling us how to ssh into our machine, that look like the following."
   ]
  },
  {
   "cell_type": "markdown",
   "id": "2d54e027-ad29-4f72-b179-e27124eb0097",
   "metadata": {},
   "source": [
    "<img src=\"./connect-to-instance.png\">"
   ]
  },
  {
   "cell_type": "markdown",
   "id": "7cc7720f-f6e7-4f74-ada7-78814bb8b108",
   "metadata": {},
   "source": [
    "> So you'll need to cd into the ssh folder, and make sure to run the `chmod 400` command on the pem file.  Then issue the `ssh` command that you see in your AWS environment, under example to login to the machine."
   ]
  },
  {
   "cell_type": "markdown",
   "id": "9bb7c368-7731-4f0d-b20f-437ca922ddbd",
   "metadata": {},
   "source": [
    "### Installing Prefect"
   ]
  },
  {
   "cell_type": "markdown",
   "id": "6d362dba-444f-4d58-832b-473a6423e2e3",
   "metadata": {},
   "source": [
    "Once we are connected to our machine, we can take the steps necessary to install prefect.\n",
    "\n",
    "1. Install git and clone in our git repository"
   ]
  },
  {
   "cell_type": "markdown",
   "id": "64f377af-1599-4d42-a24a-39378b6334f3",
   "metadata": {},
   "source": [
    "```bash\n",
    "sudo yum update -y\n",
    "sudo yum install git -y\n",
    "git clone https://github.com/data-engineering-jigsaw/prefect-deployments-code.git\n",
    "```"
   ]
  },
  {
   "cell_type": "markdown",
   "id": "90db1398-6452-4998-8c7e-616d778fb93e",
   "metadata": {},
   "source": [
    "2. Get setup with pip, and install prefect\n",
    "\n",
    "```bash\n",
    "sudo yum install python3 -y\n",
    "curl -O https://bootstrap.pypa.io/get-pip.py\n",
    "python3 get-pip.py --user\n",
    "```"
   ]
  },
  {
   "cell_type": "markdown",
   "id": "f75d923d-d69b-42d8-bc24-43ddf5efe27d",
   "metadata": {},
   "source": [
    "At this point we can install prefect with the following:"
   ]
  },
  {
   "cell_type": "markdown",
   "id": "c246a277-de2f-4806-8ffb-c4a6097d02f0",
   "metadata": {},
   "source": [
    "```bash\n",
    "pip3 install prefect\n",
    "````"
   ]
  },
  {
   "cell_type": "markdown",
   "id": "3da4b421-e54a-484d-82d0-c9556a8e7ee4",
   "metadata": {},
   "source": [
    "4. Connect prefect"
   ]
  },
  {
   "cell_type": "markdown",
   "id": "c107c0c9-9256-4ba0-91c8-2739bace07dd",
   "metadata": {},
   "source": [
    "And we'll want to connect prefect to our prefect cloud account.  To do so, go to prefect, and click on your profile in the bottom left, followed by API keys.\n",
    "\n",
    "After creating an API key, you can copy and paste the `prefect cloud login` command into your AWS shell."
   ]
  },
  {
   "cell_type": "markdown",
   "id": "9e00330f-769d-4735-a72f-cd0147457901",
   "metadata": {},
   "source": [
    "> <img src=\"./prefect-login.png\" width=\"50%\">"
   ]
  },
  {
   "cell_type": "markdown",
   "id": "d6ca5888-7432-4aa2-aaa0-09b3068261f0",
   "metadata": {},
   "source": [
    "This will create a `~/.prefect` folder on your EC2 machine, and in the `~/.prefect/profiles.yml` file is your api key."
   ]
  },
  {
   "cell_type": "markdown",
   "id": "1eb4115e-c360-4d4d-9a29-e95eee6f1d48",
   "metadata": {},
   "source": [
    "<img src=\"./prefect-profile.png\">"
   ]
  },
  {
   "cell_type": "markdown",
   "id": "7899c43a-4f83-482c-bb80-4c2ab0e9b77b",
   "metadata": {},
   "source": [
    "Ok, the prefect runnning on our EC2 should now be connected to our prefect account.  Let's try it out."
   ]
  },
  {
   "cell_type": "markdown",
   "id": "38d7d018-72ea-4170-9edc-15c58bba4af4",
   "metadata": {},
   "source": [
    "Run the flow by moving into the `prefect-deployments-code` folder, and then running the `index.py` file."
   ]
  },
  {
   "cell_type": "markdown",
   "id": "23be8278-dbec-4509-996f-813d04262664",
   "metadata": {},
   "source": [
    "<img src=\"./run-prefect.png\" width=\"80%\">"
   ]
  },
  {
   "cell_type": "markdown",
   "id": "a4aca9b3-7554-4f95-be13-a317f7035a92",
   "metadata": {},
   "source": [
    "And if you click on the prefect link, we should see our flow run logged to the prefect orchestration environment in `prefect.io`."
   ]
  },
  {
   "cell_type": "markdown",
   "id": "c1d57977-3948-4110-a637-6b6ef2d0aa18",
   "metadata": {},
   "source": [
    "### Deployments and Worker Pools"
   ]
  },
  {
   "cell_type": "markdown",
   "id": "afdfa75e-1cc1-44fa-8ede-e2167ddb0919",
   "metadata": {},
   "source": [
    "The flow run that we just created comes from the flow `get-restaurants`.  \n",
    "\n",
    "> We can determine this because that's the name of the flow function."
   ]
  },
  {
   "cell_type": "markdown",
   "id": "732ed8d0-fbf1-4477-ad7a-368a1c7df724",
   "metadata": {},
   "source": [
    "If you click on the deployments panel, you may see that a `deployment` is already associated with this flow."
   ]
  },
  {
   "cell_type": "markdown",
   "id": "a03903e3-e131-4297-aaa5-6e3fc2fce615",
   "metadata": {},
   "source": [
    "<img src=\"./existing-dep.png\" width=\"70%\">"
   ]
  },
  {
   "cell_type": "markdown",
   "id": "e2c6cdd6-f89d-459b-bf18-00fdebbc0fef",
   "metadata": {},
   "source": [
    "If you look at the `get_restaurants-deployment.yaml` file associated with this, you'll see that we store the location folder of our flow code with the `path` key."
   ]
  },
  {
   "cell_type": "markdown",
   "id": "d9af7547-cf9d-4ee8-8910-c7dafb636ddc",
   "metadata": {},
   "source": [
    "Prefect will autogenerate this for us.  But here, we have changed this to be a link to where our code is located in our AWS environment."
   ]
  },
  {
   "cell_type": "markdown",
   "id": "6a277a09-0fb8-4efa-9e7d-16ff102f0de3",
   "metadata": {},
   "source": [
    "```yaml\n",
    "storage: null\n",
    "path: /home/ec2-user/prefect-deployments-code\n",
    "```"
   ]
  },
  {
   "cell_type": "markdown",
   "id": "f103e3aa-85f9-4c19-8ae3-352790e2ef1a",
   "metadata": {},
   "source": [
    "This allows prefect cloud to download the flowcode from AWS machine.  Next, let's apply the deployment."
   ]
  },
  {
   "cell_type": "markdown",
   "id": "e43c55d6-8258-42a1-a25e-8784df31bb25",
   "metadata": {},
   "source": [
    "`prefect deployment apply get_restaurants-deployment.yaml`"
   ]
  },
  {
   "cell_type": "markdown",
   "id": "004e716a-3565-4392-ada4-f2f4383f2868",
   "metadata": {},
   "source": [
    "> Confirm that there is a new deployment if you click on the `deployments` panel."
   ]
  },
  {
   "cell_type": "markdown",
   "id": "8cdbfb3f-f09f-41de-8e89-d49447563fd4",
   "metadata": {},
   "source": [
    "And we'll need to start the pool in the background."
   ]
  },
  {
   "cell_type": "markdown",
   "id": "cb3d65d4-41e5-414b-b122-73035eb79514",
   "metadata": {},
   "source": [
    "```bash\n",
    "prefect agent start -p 'default-agent-pool' &\n",
    "```"
   ]
  },
  {
   "cell_type": "markdown",
   "id": "0e116979-4004-4736-af4a-eb69fbaae701",
   "metadata": {},
   "source": [
    "So we add the `&` to have this be a background process, which will allow us to exit out of our EC2 machine and still have this run."
   ]
  },
  {
   "cell_type": "markdown",
   "id": "aa8d9881-aace-478a-9896-8a5a50726447",
   "metadata": {},
   "source": [
    "Then just type `exit` and press return to have the shell exit."
   ]
  },
  {
   "cell_type": "markdown",
   "id": "257b0c19-0235-4e35-8503-1ebfe3db566f",
   "metadata": {},
   "source": [
    "<img src=\"./dep-old-newest.png\">"
   ]
  },
  {
   "cell_type": "markdown",
   "id": "4953e7c9-3f71-4b0b-83ab-fd57dd16a773",
   "metadata": {},
   "source": [
    "And we should see these deployments succeed even after we exit prefect."
   ]
  },
  {
   "cell_type": "markdown",
   "id": "3f12efb7-0443-412f-9a20-38a522634e41",
   "metadata": {},
   "source": [
    "Then we should stop our machine, and destroy it."
   ]
  },
  {
   "cell_type": "markdown",
   "id": "517481ff-eacc-4b3a-acc4-178bf11cdf23",
   "metadata": {},
   "source": [
    "### Summary"
   ]
  },
  {
   "cell_type": "markdown",
   "id": "4aadb22c-6013-4829-a50f-93310d410a54",
   "metadata": {},
   "source": [
    "In this lesson, we saw how to use an EC2 machine as our orchestration environment.  We did so by installing git, and the cloning our codebase, and installing prefect.\n",
    "\n",
    "We then synced to our orchestrator by running `prefect cloud login` to add our prefect api keys to our EC2 machine.  We saw that prefect was then synced by running our flow.  And then, we reapplied our deployment, as we needed to update the path that contained our flow code.\n",
    "\n",
    "Finally, we started our agent pool on our EC2 machine and set it to a background process."
   ]
  }
 ],
 "metadata": {
  "kernelspec": {
   "display_name": "Python 3 (ipykernel)",
   "language": "python",
   "name": "python3"
  },
  "language_info": {
   "codemirror_mode": {
    "name": "ipython",
    "version": 3
   },
   "file_extension": ".py",
   "mimetype": "text/x-python",
   "name": "python",
   "nbconvert_exporter": "python",
   "pygments_lexer": "ipython3",
   "version": "3.9.12"
  }
 },
 "nbformat": 4,
 "nbformat_minor": 5
}
